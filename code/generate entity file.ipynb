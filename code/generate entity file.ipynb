{
 "cells": [
  {
   "cell_type": "code",
   "execution_count": 1,
   "id": "d0c2d431-5078-4979-a84d-aab3c0c429dd",
   "metadata": {},
   "outputs": [],
   "source": [
    "import pandas as pd\n",
    "import pathlib\n",
    "from tqdm import tqdm\n",
    "import settings\n",
    "import os"
   ]
  },
  {
   "cell_type": "code",
   "execution_count": 2,
   "id": "61de2a5d-9d67-46c8-a391-47b566267b72",
   "metadata": {},
   "outputs": [
    {
     "data": {
      "text/plain": [
       "['01073',\n",
       " '01117',\n",
       " '01007',\n",
       " '01125',\n",
       " '01043',\n",
       " '01009',\n",
       " '01115',\n",
       " '13057',\n",
       " '13117',\n",
       " '13135',\n",
       " '13247',\n",
       " '13151',\n",
       " '13113',\n",
       " '13089',\n",
       " '13121',\n",
       " '13097',\n",
       " '13067',\n",
       " '13063']"
      ]
     },
     "execution_count": 2,
     "metadata": {},
     "output_type": "execute_result"
    }
   ],
   "source": [
    "settings.COUNTIES_TO_FOCUS"
   ]
  },
  {
   "cell_type": "code",
   "execution_count": 3,
   "id": "53f1933e-d632-4ce4-bbe7-2744d08385c8",
   "metadata": {},
   "outputs": [
    {
     "data": {
      "text/plain": [
       "36"
      ]
     },
     "execution_count": 3,
     "metadata": {},
     "output_type": "execute_result"
    }
   ],
   "source": [
    "# data_files = sorted(pathlib.Path('..').glob('**/data/distribution/*.csv.xz'))\n",
    "data_files = sorted(pathlib.Path('../data/Accessibility/Average Download Speed/data/distribution').glob('*.csv.xz'))\n",
    "data_files.extend(sorted(pathlib.Path('../data/Accessibility/Average Upload Speed/data/distribution').glob('*.csv.xz')))\n",
    "focus_data = [f for f in data_files if f.name[:5] in settings.COUNTIES_TO_FOCUS]\n",
    "len(focus_data)"
   ]
  },
  {
   "cell_type": "code",
   "execution_count": 4,
   "id": "61452329-3cff-4942-8afb-3a3e3390cb06",
   "metadata": {},
   "outputs": [
    {
     "name": "stderr",
     "output_type": "stream",
     "text": [
      "100%|█████████████████████████████████████████████████████████████████████| 36/36 [00:00<00:00, 132.61it/s]\n"
     ]
    },
    {
     "data": {
      "text/html": [
       "<div>\n",
       "<style scoped>\n",
       "    .dataframe tbody tr th:only-of-type {\n",
       "        vertical-align: middle;\n",
       "    }\n",
       "\n",
       "    .dataframe tbody tr th {\n",
       "        vertical-align: top;\n",
       "    }\n",
       "\n",
       "    .dataframe thead th {\n",
       "        text-align: right;\n",
       "    }\n",
       "</style>\n",
       "<table border=\"1\" class=\"dataframe\">\n",
       "  <thead>\n",
       "    <tr style=\"text-align: right;\">\n",
       "      <th></th>\n",
       "      <th>geoid</th>\n",
       "      <th>region_type</th>\n",
       "    </tr>\n",
       "  </thead>\n",
       "  <tbody>\n",
       "    <tr>\n",
       "      <th>0</th>\n",
       "      <td>01007</td>\n",
       "      <td>county</td>\n",
       "    </tr>\n",
       "    <tr>\n",
       "      <th>1</th>\n",
       "      <td>01007010001</td>\n",
       "      <td>tract</td>\n",
       "    </tr>\n",
       "    <tr>\n",
       "      <th>2</th>\n",
       "      <td>01007010005</td>\n",
       "      <td>tract</td>\n",
       "    </tr>\n",
       "    <tr>\n",
       "      <th>3</th>\n",
       "      <td>01007010006</td>\n",
       "      <td>tract</td>\n",
       "    </tr>\n",
       "    <tr>\n",
       "      <th>4</th>\n",
       "      <td>01007010007</td>\n",
       "      <td>tract</td>\n",
       "    </tr>\n",
       "    <tr>\n",
       "      <th>...</th>\n",
       "      <td>...</td>\n",
       "      <td>...</td>\n",
       "    </tr>\n",
       "    <tr>\n",
       "      <th>85</th>\n",
       "      <td>132470604092</td>\n",
       "      <td>block group</td>\n",
       "    </tr>\n",
       "    <tr>\n",
       "      <th>86</th>\n",
       "      <td>132470604093</td>\n",
       "      <td>block group</td>\n",
       "    </tr>\n",
       "    <tr>\n",
       "      <th>87</th>\n",
       "      <td>132470604101</td>\n",
       "      <td>block group</td>\n",
       "    </tr>\n",
       "    <tr>\n",
       "      <th>88</th>\n",
       "      <td>132470604102</td>\n",
       "      <td>block group</td>\n",
       "    </tr>\n",
       "    <tr>\n",
       "      <th>89</th>\n",
       "      <td>132470604111</td>\n",
       "      <td>block group</td>\n",
       "    </tr>\n",
       "  </tbody>\n",
       "</table>\n",
       "<p>5961 rows × 2 columns</p>\n",
       "</div>"
      ],
      "text/plain": [
       "           geoid  region_type\n",
       "0          01007       county\n",
       "1    01007010001        tract\n",
       "2    01007010005        tract\n",
       "3    01007010006        tract\n",
       "4    01007010007        tract\n",
       "..           ...          ...\n",
       "85  132470604092  block group\n",
       "86  132470604093  block group\n",
       "87  132470604101  block group\n",
       "88  132470604102  block group\n",
       "89  132470604111  block group\n",
       "\n",
       "[5961 rows x 2 columns]"
      ]
     },
     "execution_count": 4,
     "metadata": {},
     "output_type": "execute_result"
    }
   ],
   "source": [
    "dfs = []\n",
    "for f in tqdm(focus_data):\n",
    "    df = pd.read_csv(f, dtype={'geoid':object})\n",
    "    df = df.reindex(['geoid','region_type'], axis=1)\n",
    "    dfs.append(df)\n",
    "fdf = pd.concat(dfs)\n",
    "fdf = fdf.drop_duplicates()\n",
    "fdf = fdf.dropna()\n",
    "fdf"
   ]
  },
  {
   "cell_type": "code",
   "execution_count": 5,
   "id": "40d735b7-bb55-48e7-b24a-9a831c3cac4c",
   "metadata": {},
   "outputs": [],
   "source": [
    "fdf.to_csv('../docs/data/custom_entity.csv', index=False)\n",
    "assert os.path.isfile('../docs/data/custom_entity.csv')"
   ]
  }
 ],
 "metadata": {
  "kernelspec": {
   "display_name": "Python 3 (ipykernel)",
   "language": "python",
   "name": "python3"
  },
  "language_info": {
   "codemirror_mode": {
    "name": "ipython",
    "version": 3
   },
   "file_extension": ".py",
   "mimetype": "text/x-python",
   "name": "python",
   "nbconvert_exporter": "python",
   "pygments_lexer": "ipython3",
   "version": "3.11.4"
  }
 },
 "nbformat": 4,
 "nbformat_minor": 5
}
